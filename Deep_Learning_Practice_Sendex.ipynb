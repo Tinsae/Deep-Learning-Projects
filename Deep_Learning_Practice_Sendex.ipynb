{
  "nbformat": 4,
  "nbformat_minor": 0,
  "metadata": {
    "colab": {
      "name": "Deep Learning with Python - Sentdex.ipynb",
      "version": "0.3.2",
      "provenance": [],
      "include_colab_link": true
    },
    "kernelspec": {
      "name": "python3",
      "display_name": "Python 3"
    }
  },
  "cells": [
    {
      "cell_type": "markdown",
      "metadata": {
        "id": "view-in-github",
        "colab_type": "text"
      },
      "source": [
        "<a href=\"https://colab.research.google.com/github/Tinsae/Deep-Learning-Projects/blob/master/Deep_Learning_Practice_Sendex.ipynb\" target=\"_parent\"><img src=\"https://colab.research.google.com/assets/colab-badge.svg\" alt=\"Open In Colab\"/></a>"
      ]
    },
    {
      "cell_type": "code",
      "metadata": {
        "id": "0uIVshSUTmCT",
        "colab_type": "code",
        "colab": {}
      },
      "source": [
        "import tensorflow as tf\n",
        "import matplotlib.pyplot as plt\n",
        "import numpy as np\n",
        "# for changing directory\n",
        "import os\n",
        "import cv2\n",
        "from google.colab import drive\n",
        "import pickle\n",
        "\n",
        "#pip install opencv-python"
      ],
      "execution_count": 0,
      "outputs": []
    },
    {
      "cell_type": "code",
      "metadata": {
        "id": "9t0nqVPzaEdI",
        "colab_type": "code",
        "outputId": "080d76f8-1a82-4ec6-9664-47388c02c74f",
        "colab": {
          "base_uri": "https://localhost:8080/",
          "height": 129
        }
      },
      "source": [
        "drive.mount(\"/content/drive\")"
      ],
      "execution_count": 2,
      "outputs": [
        {
          "output_type": "stream",
          "text": [
            "Go to this URL in a browser: https://accounts.google.com/o/oauth2/auth?client_id=947318989803-6bn6qk8qdgf4n4g3pfee6491hc0brc4i.apps.googleusercontent.com&redirect_uri=urn%3Aietf%3Awg%3Aoauth%3A2.0%3Aoob&scope=email%20https%3A%2F%2Fwww.googleapis.com%2Fauth%2Fdocs.test%20https%3A%2F%2Fwww.googleapis.com%2Fauth%2Fdrive%20https%3A%2F%2Fwww.googleapis.com%2Fauth%2Fdrive.photos.readonly%20https%3A%2F%2Fwww.googleapis.com%2Fauth%2Fpeopleapi.readonly&response_type=code\n",
            "\n",
            "Enter your authorization code:\n",
            "··········\n",
            "Mounted at /content/drive\n"
          ],
          "name": "stdout"
        }
      ]
    },
    {
      "cell_type": "markdown",
      "metadata": {
        "id": "mTR6hHyINRoM",
        "colab_type": "text"
      },
      "source": [
        "### MNIST"
      ]
    },
    {
      "cell_type": "code",
      "metadata": {
        "id": "qEwt8l82VOSp",
        "colab_type": "code",
        "colab": {
          "base_uri": "https://localhost:8080/",
          "height": 54
        },
        "outputId": "d780cdcb-3cae-4243-e62e-973f9a6e4256"
      },
      "source": [
        "mnist = tf.keras.datasets.mnist\n",
        "\n",
        "# load data\n",
        "\n",
        "(x_train, y_train), (x_test, y_test) = mnist.load_data()\n",
        "\n",
        "# l2 normalize\n",
        "x_train = tf.keras.utils.normalize(x_train, axis=1)\n",
        "x_test = tf.keras.utils.normalize(x_test, axis=1)"
      ],
      "execution_count": 3,
      "outputs": [
        {
          "output_type": "stream",
          "text": [
            "Downloading data from https://storage.googleapis.com/tensorflow/tf-keras-datasets/mnist.npz\n",
            "11493376/11490434 [==============================] - 0s 0us/step\n"
          ],
          "name": "stdout"
        }
      ]
    },
    {
      "cell_type": "code",
      "metadata": {
        "id": "0U2Z5qRuhdxZ",
        "colab_type": "code",
        "colab": {
          "base_uri": "https://localhost:8080/",
          "height": 128
        },
        "outputId": "cfd72853-fda1-4287-aa87-644715b07792"
      },
      "source": [
        "print(x_train.shape)\n",
        "print(y_train.shape)\n",
        "print(x_test.shape)\n",
        "print(y_test.shape)\n",
        "\n",
        "\n",
        "print(np.bincount(y_train))\n",
        "print(np.bincount(y_test))\n"
      ],
      "execution_count": 4,
      "outputs": [
        {
          "output_type": "stream",
          "text": [
            "(60000, 28, 28)\n",
            "(60000,)\n",
            "(10000, 28, 28)\n",
            "(10000,)\n",
            "[5923 6742 5958 6131 5842 5421 5918 6265 5851 5949]\n",
            "[ 980 1135 1032 1010  982  892  958 1028  974 1009]\n"
          ],
          "name": "stdout"
        }
      ]
    },
    {
      "cell_type": "code",
      "metadata": {
        "id": "MucoTpDYkaAj",
        "colab_type": "code",
        "colab": {
          "base_uri": "https://localhost:8080/",
          "height": 222
        },
        "outputId": "b2374bf0-27ef-4902-bcb9-1ed7011005fa"
      },
      "source": [
        "model = tf.keras.models.Sequential()\n",
        "model.add(tf.keras.layers.Flatten())\n",
        "model.add(tf.keras.layers.Dense(128, activation=tf.nn.relu))\n",
        "model.add(tf.keras.layers.Dense(128, activation=tf.nn.relu))\n",
        "model.add(tf.keras.layers.Dense(10, activation=tf.nn.softmax))\n",
        "model.compile(optimizer='adam', loss='sparse_categorical_crossentropy',\n",
        "             metrics=['accuracy'])\n",
        "\n",
        "model.fit(x_train, y_train, epochs=3)"
      ],
      "execution_count": 5,
      "outputs": [
        {
          "output_type": "stream",
          "text": [
            "WARNING:tensorflow:From /usr/local/lib/python3.6/dist-packages/tensorflow/python/ops/resource_variable_ops.py:435: colocate_with (from tensorflow.python.framework.ops) is deprecated and will be removed in a future version.\n",
            "Instructions for updating:\n",
            "Colocations handled automatically by placer.\n",
            "Epoch 1/3\n",
            "60000/60000 [==============================] - 9s 143us/sample - loss: 0.2582 - acc: 0.9252\n",
            "Epoch 2/3\n",
            "60000/60000 [==============================] - 8s 130us/sample - loss: 0.1060 - acc: 0.9676\n",
            "Epoch 3/3\n",
            "60000/60000 [==============================] - 8s 133us/sample - loss: 0.0724 - acc: 0.9776\n"
          ],
          "name": "stdout"
        },
        {
          "output_type": "execute_result",
          "data": {
            "text/plain": [
              "<tensorflow.python.keras.callbacks.History at 0x7eff573fdb38>"
            ]
          },
          "metadata": {
            "tags": []
          },
          "execution_count": 5
        }
      ]
    },
    {
      "cell_type": "code",
      "metadata": {
        "id": "Slp47da1VO1n",
        "colab_type": "code",
        "colab": {
          "base_uri": "https://localhost:8080/",
          "height": 54
        },
        "outputId": "68016591-cfe9-4fc0-e7a6-3000392a3ca1"
      },
      "source": [
        "# see validation loss. is it overfitting?\n",
        "val_loss, val_acc = model.evaluate(x_test, y_test)\n",
        "print(val_loss, val_acc)"
      ],
      "execution_count": 6,
      "outputs": [
        {
          "output_type": "stream",
          "text": [
            "10000/10000 [==============================] - 1s 55us/sample - loss: 0.0965 - acc: 0.9707\n",
            "0.09653000272270292 0.9707\n"
          ],
          "name": "stdout"
        }
      ]
    },
    {
      "cell_type": "code",
      "metadata": {
        "id": "Lk7deFCgVRYG",
        "colab_type": "code",
        "colab": {}
      },
      "source": [
        "model.save('epic_num_reader.model')\n"
      ],
      "execution_count": 0,
      "outputs": []
    },
    {
      "cell_type": "code",
      "metadata": {
        "id": "5QiqEQMlVWdl",
        "colab_type": "code",
        "colab": {
          "base_uri": "https://localhost:8080/",
          "height": 55
        },
        "outputId": "8e3d1418-c149-488b-a2fa-46f677acc43f"
      },
      "source": [
        "new_model = tf.keras.models.load_model('epic_num_reader.model')"
      ],
      "execution_count": 8,
      "outputs": [
        {
          "output_type": "stream",
          "text": [
            "WARNING:tensorflow:Sequential models without an `input_shape` passed to the first layer cannot reload their optimizer state. As a result, your model isstarting with a freshly initialized optimizer.\n"
          ],
          "name": "stdout"
        }
      ]
    },
    {
      "cell_type": "code",
      "metadata": {
        "id": "KL-qxCR-VYIN",
        "colab_type": "code",
        "colab": {}
      },
      "source": [
        "predictions = new_model.predict(x_test)"
      ],
      "execution_count": 0,
      "outputs": []
    },
    {
      "cell_type": "code",
      "metadata": {
        "id": "mw2s0WkNVaJO",
        "colab_type": "code",
        "colab": {
          "base_uri": "https://localhost:8080/",
          "height": 276
        },
        "outputId": "ba2cf714-4aa5-43b6-9420-91689381eae4"
      },
      "source": [
        "print(predictions)\n",
        "print(predictions.shape)"
      ],
      "execution_count": 10,
      "outputs": [
        {
          "output_type": "stream",
          "text": [
            "[[1.64258540e-09 8.09615358e-07 1.43636805e-06 ... 9.99987721e-01\n",
            "  8.46985699e-08 8.52299493e-08]\n",
            " [8.97758934e-09 6.20324790e-05 9.99808729e-01 ... 1.16818640e-07\n",
            "  5.60597925e-07 5.32956110e-11]\n",
            " [2.67347815e-07 9.99886155e-01 2.16055632e-05 ... 2.73700061e-05\n",
            "  1.22745705e-05 1.57174512e-07]\n",
            " ...\n",
            " [5.39035376e-08 1.44815729e-07 1.23780008e-08 ... 4.07665793e-05\n",
            "  1.62695676e-06 1.67797945e-04]\n",
            " [8.44725534e-08 2.51335649e-07 4.62517562e-08 ... 8.46020839e-07\n",
            "  4.58596005e-05 1.32523292e-09]\n",
            " [1.03112396e-09 4.08810208e-10 1.78450730e-08 ... 4.37476010e-12\n",
            "  7.20190740e-10 1.25154375e-11]]\n",
            "(10000, 10)\n"
          ],
          "name": "stdout"
        }
      ]
    },
    {
      "cell_type": "code",
      "metadata": {
        "id": "WThMq6-FVbt7",
        "colab_type": "code",
        "colab": {
          "base_uri": "https://localhost:8080/",
          "height": 35
        },
        "outputId": "03e851cb-ae99-4c6f-fee3-12ea1c009506"
      },
      "source": [
        "print(np.argmax(predictions[2]))"
      ],
      "execution_count": 11,
      "outputs": [
        {
          "output_type": "stream",
          "text": [
            "1\n"
          ],
          "name": "stdout"
        }
      ]
    },
    {
      "cell_type": "code",
      "metadata": {
        "id": "jvpGkT2AVdEG",
        "colab_type": "code",
        "colab": {
          "base_uri": "https://localhost:8080/",
          "height": 35
        },
        "outputId": "8e2d0509-61ef-4816-b5e4-260d6c836afc"
      },
      "source": [
        "np.all(np.sum(predictions[2]) == 1)"
      ],
      "execution_count": 12,
      "outputs": [
        {
          "output_type": "execute_result",
          "data": {
            "text/plain": [
              "False"
            ]
          },
          "metadata": {
            "tags": []
          },
          "execution_count": 12
        }
      ]
    },
    {
      "cell_type": "code",
      "metadata": {
        "id": "juQWj6NOVdzO",
        "colab_type": "code",
        "colab": {
          "base_uri": "https://localhost:8080/",
          "height": 269
        },
        "outputId": "3b46610c-1bc0-4e68-ad86-341885a486a5"
      },
      "source": [
        "plt.imshow(x_test[2])\n",
        "plt.show()"
      ],
      "execution_count": 13,
      "outputs": [
        {
          "output_type": "display_data",
          "data": {
            "image/png": "[encoded data removed]",
            "text/plain": [
              "<Figure size 432x288 with 1 Axes>"
            ]
          },
          "metadata": {
            "tags": []
          }
        }
      ]
    },
    {
      "cell_type": "code",
      "metadata": {
        "id": "Waqe27zvg53u",
        "colab_type": "code",
        "colab": {
          "base_uri": "https://localhost:8080/",
          "height": 269
        },
        "outputId": "9df220e8-65e8-4732-8c1d-4e9fe609b7a0"
      },
      "source": [
        "plt.imshow(x_test[2], cmap=plt.cm.binary)\n",
        "plt.show()"
      ],
      "execution_count": 14,
      "outputs": [
        {
          "output_type": "display_data",
          "data": {
            "image/png": "[encoded data removed]",
            "text/plain": [
              "<Figure size 432x288 with 1 Axes>"
            ]
          },
          "metadata": {
            "tags": []
          }
        }
      ]
    },
    {
      "cell_type": "markdown",
      "metadata": {
        "id": "Dsj57yjkUmBQ",
        "colab_type": "text"
      },
      "source": [
        "### Loading your own data"
      ]
    },
    {
      "cell_type": "code",
      "metadata": {
        "id": "Vc_KcOpeA3CZ",
        "colab_type": "code",
        "colab": {}
      },
      "source": [
        "# change current directory\n",
        "os.chdir(\"/content/drive/My Drive/\")"
      ],
      "execution_count": 0,
      "outputs": []
    },
    {
      "cell_type": "code",
      "metadata": {
        "id": "P56j0mzz4f2N",
        "colab_type": "code",
        "colab": {}
      },
      "source": [
        "# # how to remove files that have certain extension\n",
        "# !rm *.jpg\n",
        "# !ls *.jpg"
      ],
      "execution_count": 0,
      "outputs": []
    },
    {
      "cell_type": "code",
      "metadata": {
        "id": "GO2LltnxnqUP",
        "colab_type": "code",
        "colab": {}
      },
      "source": [
        "# one way to unzip\n",
        "#!unzip -q \"/content/drive/My Drive/kagglecatsanddogs_3367a.zip\""
      ],
      "execution_count": 0,
      "outputs": []
    },
    {
      "cell_type": "code",
      "metadata": {
        "id": "HTle9BD3WqVq",
        "colab_type": "code",
        "colab": {}
      },
      "source": [
        "#!mkdir catsdogs"
      ],
      "execution_count": 0,
      "outputs": []
    },
    {
      "cell_type": "code",
      "metadata": {
        "id": "LsRc2RQJgLTY",
        "colab_type": "code",
        "colab": {}
      },
      "source": [
        "# # # other way to unzip\n",
        "# # extract uploaded zip file to a new folder\n",
        "# cats_archive = \"/content/drive/My Drive/cats.zip\"\n",
        "# dogs_archive = \"/content/drive/My Drive/dogs.zip\"\n",
        "\n",
        "# cats_dest = \"/content/drive/My Drive/cats/\"\n",
        "# dogs_dest = \"/content/drive/My Drive/dogs/\"\n",
        "\n",
        "# from zipfile import ZipFile\n",
        "\n",
        "# with ZipFile(cats_archive) as zf:\n",
        "#         zf.extractall(cats_dest)\n",
        "\n",
        "# with ZipFile(dogs_archive) as zf:\n",
        "#         zf.extractall(dogs_dest)\n",
        "# len(zf.filelist)"
      ],
      "execution_count": 0,
      "outputs": []
    },
    {
      "cell_type": "code",
      "metadata": {
        "id": "01VgWHAhAibo",
        "colab_type": "code",
        "outputId": "b119b60e-de8d-4a7a-cf36-fb36663b3324",
        "colab": {
          "base_uri": "https://localhost:8080/",
          "height": 128
        }
      },
      "source": [
        "!ls"
      ],
      "execution_count": 42,
      "outputs": [
        {
          "output_type": "stream",
          "text": [
            " avocado.csv\t    dogs.zip\t\t    models\n",
            " cats\t\t    EDH\t\t\t    taxi_data\n",
            " cats.zip\t    epic_num_reader.model   X.pickle\n",
            "'Colab Notebooks'  'Getting started.pdf'    y2017_as_pd_resampled.csv\n",
            " crypto_data\t    loan_data\t\t    yelp-dataset\n",
            " dogs\t\t    logs\t\t    y.pickle\n"
          ],
          "name": "stdout"
        }
      ]
    },
    {
      "cell_type": "code",
      "metadata": {
        "id": "L2naWPsMg9Kr",
        "colab_type": "code",
        "colab": {
          "base_uri": "https://localhost:8080/",
          "height": 269
        },
        "outputId": "722bc9ff-fa2b-4b86-efbe-39f2b1e17f97"
      },
      "source": [
        "categories = [\"dogs/Dog\", \"cats/Cat\"]\n",
        "for category in categories:\n",
        "  for img in os.listdir(category):\n",
        "    # only one color scale \n",
        "    # shape is is 2 dimensional   218, 200 for example\n",
        "    # if it is full color shape will be 218, 200, 3\n",
        "    img_array = cv2.imread(os.path.join(category, img), cv2.IMREAD_GRAYSCALE)\n",
        "    plt.imshow(img_array, cmap =\"gray\")\n",
        "    plt.show()\n",
        "    break\n",
        "  break"
      ],
      "execution_count": 43,
      "outputs": [
        {
          "output_type": "display_data",
          "data": {
            "image/png": "[encoded data removed]",
            "text/plain": [
              "<Figure size 432x288 with 1 Axes>"
            ]
          },
          "metadata": {
            "tags": []
          }
        }
      ]
    },
    {
      "cell_type": "code",
      "metadata": {
        "id": "8BScM2yjVKYp",
        "colab_type": "code",
        "colab": {
          "base_uri": "https://localhost:8080/",
          "height": 35
        },
        "outputId": "e4c7c440-d496-4f97-f3b6-200cc090fd7e"
      },
      "source": [
        "img_array.shape"
      ],
      "execution_count": 44,
      "outputs": [
        {
          "output_type": "execute_result",
          "data": {
            "text/plain": [
              "(218, 200)"
            ]
          },
          "metadata": {
            "tags": []
          },
          "execution_count": 44
        }
      ]
    },
    {
      "cell_type": "code",
      "metadata": {
        "id": "b3NXl-ifW3kH",
        "colab_type": "code",
        "colab": {
          "base_uri": "https://localhost:8080/",
          "height": 287
        },
        "outputId": "c5637319-52d0-418c-d6a2-861a7fe18a33"
      },
      "source": [
        "IMG_SIZE = 50\n",
        "new_array = cv2.resize(img_array, (IMG_SIZE, IMG_SIZE))\n",
        "plt.imshow(new_array, cmap = 'gray')"
      ],
      "execution_count": 45,
      "outputs": [
        {
          "output_type": "execute_result",
          "data": {
            "text/plain": [
              "<matplotlib.image.AxesImage at 0x7eff4fe626a0>"
            ]
          },
          "metadata": {
            "tags": []
          },
          "execution_count": 45
        },
        {
          "output_type": "display_data",
          "data": {
            "image/png": "[encoded data removed]",
            "text/plain": [
              "<Figure size 432x288 with 1 Axes>"
            ]
          },
          "metadata": {
            "tags": []
          }
        }
      ]
    },
    {
      "cell_type": "code",
      "metadata": {
        "id": "K_dkPM54aACs",
        "colab_type": "code",
        "colab": {
          "base_uri": "https://localhost:8080/",
          "height": 72
        },
        "outputId": "f76a45f2-7a68-4c25-da8b-09befa5a39e4"
      },
      "source": [
        ""
      ],
      "execution_count": 73,
      "outputs": [
        {
          "output_type": "execute_result",
          "data": {
            "text/plain": [
              "array([0., 0., 0., 0., 0., 0., 0., 0., 0., 0., 0., 0., 0., 0., 0., 0., 0.,\n",
              "       0., 0., 0., 0., 0., 0., 0., 0., 0., 0., 0., 0., 0., 0., 0., 0., 0.,\n",
              "       0., 0., 0., 0., 0., 0., 0., 0., 0., 0., 0., 0., 0., 0., 0., 0.])"
            ]
          },
          "metadata": {
            "tags": []
          },
          "execution_count": 73
        }
      ]
    },
    {
      "cell_type": "code",
      "metadata": {
        "id": "TTwsSlNWi9kn",
        "colab_type": "code",
        "colab": {
          "base_uri": "https://localhost:8080/",
          "height": 904
        },
        "outputId": "c5506099-ec86-40a2-9790-580c0e2c7661"
      },
      "source": [
        "#training_data = []\n",
        "training_data = []\n",
        "def create_training_data():\n",
        "  for category in categories:\n",
        "    # either 0 or 1\n",
        "    class_num = categories.index(category)\n",
        "    for i, img in enumerate(os.listdir(category)[:1000]):\n",
        "      if(i%10 == 0 and i <= 100):\n",
        "        print(\"processing image \", i)\n",
        "\n",
        "      elif(i%100 == 0 and i <= 1000):\n",
        "        print(\"processing image \", i)\n",
        "        \n",
        "      elif(i%1000 == 0 and i <= 3000):\n",
        "        print(\"processing image \", i)\n",
        "        \n",
        "      # only one color scale \n",
        "      # shape is is 2 dimensional   218, 200 for example\n",
        "      # if it is full color shape will be 218, 200, 3\n",
        "      try:\n",
        "        img_array = cv2.imread(os.path.join(category, img), cv2.IMREAD_GRAYSCALE)\n",
        "        new_array = cv2.resize(img_array, (IMG_SIZE, IMG_SIZE))\n",
        "        training_data.append([new_array, class_num])\n",
        "      except Exception as e:\n",
        "        print(\"failed to load image\", e)\n",
        "        pass\n",
        "      \n",
        "create_training_data()"
      ],
      "execution_count": 81,
      "outputs": [
        {
          "output_type": "stream",
          "text": [
            "processing image  0\n",
            "processing image  10\n",
            "processing image  20\n",
            "processing image  30\n",
            "processing image  40\n",
            "processing image  50\n",
            "processing image  60\n",
            "processing image  70\n",
            "processing image  80\n",
            "processing image  90\n",
            "failed to load image OpenCV(3.4.3) /io/opencv/modules/imgproc/src/resize.cpp:4044: error: (-215:Assertion failed) !ssize.empty() in function 'resize'\n",
            "\n",
            "processing image  100\n",
            "processing image  200\n",
            "processing image  300\n",
            "processing image  400\n",
            "processing image  500\n",
            "processing image  600\n",
            "processing image  700\n",
            "processing image  800\n",
            "processing image  900\n",
            "processing image  0\n",
            "processing image  10\n",
            "processing image  20\n",
            "processing image  30\n",
            "processing image  40\n",
            "processing image  50\n",
            "processing image  60\n",
            "processing image  70\n",
            "processing image  80\n",
            "failed to load image OpenCV(3.4.3) /io/opencv/modules/imgproc/src/resize.cpp:4044: error: (-215:Assertion failed) !ssize.empty() in function 'resize'\n",
            "\n",
            "processing image  90\n",
            "processing image  100\n",
            "processing image  200\n",
            "failed to load image OpenCV(3.4.3) /io/opencv/modules/imgproc/src/resize.cpp:4044: error: (-215:Assertion failed) !ssize.empty() in function 'resize'\n",
            "\n",
            "processing image  300\n",
            "processing image  400\n",
            "processing image  500\n",
            "failed to load image OpenCV(3.4.3) /io/opencv/modules/imgproc/src/resize.cpp:4044: error: (-215:Assertion failed) !ssize.empty() in function 'resize'\n",
            "\n",
            "processing image  600\n",
            "processing image  700\n",
            "failed to load image OpenCV(3.4.3) /io/opencv/modules/imgproc/src/resize.cpp:4044: error: (-215:Assertion failed) !ssize.empty() in function 'resize'\n",
            "\n",
            "processing image  800\n",
            "processing image  900\n"
          ],
          "name": "stdout"
        }
      ]
    },
    {
      "cell_type": "code",
      "metadata": {
        "id": "R30VzqpDgLc_",
        "colab_type": "code",
        "colab": {
          "base_uri": "https://localhost:8080/",
          "height": 35
        },
        "outputId": "4d0ebea3-2184-487b-f835-e27a71abb3ec"
      },
      "source": [
        "len(training_data)"
      ],
      "execution_count": 82,
      "outputs": [
        {
          "output_type": "execute_result",
          "data": {
            "text/plain": [
              "1995"
            ]
          },
          "metadata": {
            "tags": []
          },
          "execution_count": 82
        }
      ]
    },
    {
      "cell_type": "code",
      "metadata": {
        "id": "mX9qBJ9jk6-R",
        "colab_type": "code",
        "colab": {
          "base_uri": "https://localhost:8080/",
          "height": 35
        },
        "outputId": "8cef329a-5eed-46db-9275-0558bb58f939"
      },
      "source": [
        "# length is not exactly 2000 because some images could not be loaded\n",
        "len(training_data)"
      ],
      "execution_count": 83,
      "outputs": [
        {
          "output_type": "execute_result",
          "data": {
            "text/plain": [
              "1995"
            ]
          },
          "metadata": {
            "tags": []
          },
          "execution_count": 83
        }
      ]
    },
    {
      "cell_type": "code",
      "metadata": {
        "id": "nYlkezCynihP",
        "colab_type": "code",
        "colab": {}
      },
      "source": [
        "X = []\n",
        "y = []\n",
        "for features, label in training_data:\n",
        "  X.append(features)\n",
        "  y.append(label)\n",
        "\n",
        "# no of images, 50, 50, 1\n",
        "X = np.array(X).reshape(-1, IMG_SIZE, IMG_SIZE, 1)\n",
        "y = np.array(y)"
      ],
      "execution_count": 0,
      "outputs": []
    },
    {
      "cell_type": "code",
      "metadata": {
        "id": "QebUlPDdK9oN",
        "colab_type": "code",
        "colab": {
          "base_uri": "https://localhost:8080/",
          "height": 54
        },
        "outputId": "f986288a-8359-439b-c6cc-2f0c4cd64d64"
      },
      "source": [
        "print(X.shape)\n",
        "print(y.shape)"
      ],
      "execution_count": 85,
      "outputs": [
        {
          "output_type": "stream",
          "text": [
            "(1995, 50, 50, 1)\n",
            "(1995,)\n"
          ],
          "name": "stdout"
        }
      ]
    },
    {
      "cell_type": "code",
      "metadata": {
        "id": "8jsWntIqLokg",
        "colab_type": "code",
        "colab": {}
      },
      "source": [
        "pickle.dump(X, open(\"X.pickle\", \"wb\") )\n",
        "pickle.dump(y, open(\"y.pickle\", \"wb\") )"
      ],
      "execution_count": 0,
      "outputs": []
    },
    {
      "cell_type": "markdown",
      "metadata": {
        "id": "PF8ADg4vO6au",
        "colab_type": "text"
      },
      "source": [
        "### Covolutional Neural Networks"
      ]
    },
    {
      "cell_type": "code",
      "metadata": {
        "id": "TTB09jN9SqGr",
        "colab_type": "code",
        "colab": {
          "base_uri": "https://localhost:8080/",
          "height": 424
        },
        "outputId": "6558aa20-370f-49ae-9662-c82858396dcb"
      },
      "source": [
        "import tensorflow as tf\n",
        "from tensorflow.keras.models import Sequential\n",
        "from tensorflow.keras.layers import Dense, Dropout, Activation, Flatten, Conv2D, MaxPooling2D\n",
        "import pickle\n",
        "\n",
        "\n",
        "X = pickle.load(open(\"X.pickle\", \"rb\"))\n",
        "y = pickle.load(open(\"y.pickle\", \"rb\"))\n",
        "                \n",
        "X = X/255.0\n",
        "model = Sequential()\n",
        "# input shape is 50,50,1\n",
        "# 3,3 is window\n",
        "model.add(Conv2D(64, (3,3), input_shape = X.shape[1:]))\n",
        "model.add(Activation(\"relu\"))\n",
        "model.add(MaxPooling2D(pool_size=(2,2)))\n",
        "\n",
        "\n",
        "model.add(Conv2D(64, (3,3)))\n",
        "model.add(Activation(\"relu\"))\n",
        "model.add(MaxPooling2D(pool_size=(2,2)))\n",
        "\n",
        "model.add(Flatten())\n",
        "\n",
        "model.add(Dense(64))\n",
        "model.add(Activation('relu'))\n",
        "\n",
        "model.add(Dense(1))\n",
        "model.add(Activation('sigmoid'))\n",
        "\n",
        "model.compile(loss=\"binary_crossentropy\", optimizer=\"adam\", metrics=[\"accuracy\"])\n",
        "model.fit(X, y, batch_size=32, epochs = 10, validation_split=0.1)"
      ],
      "execution_count": 89,
      "outputs": [
        {
          "output_type": "stream",
          "text": [
            "Train on 1795 samples, validate on 200 samples\n",
            "Epoch 1/10\n",
            "1795/1795 [==============================] - 11s 6ms/sample - loss: 0.6967 - acc: 0.5532 - val_loss: 0.7660 - val_acc: 0.0000e+00\n",
            "Epoch 2/10\n",
            "1795/1795 [==============================] - 10s 6ms/sample - loss: 0.6867 - acc: 0.5565 - val_loss: 0.7866 - val_acc: 0.0000e+00\n",
            "Epoch 3/10\n",
            "1795/1795 [==============================] - 10s 6ms/sample - loss: 0.6642 - acc: 0.5855 - val_loss: 0.8251 - val_acc: 0.3650\n",
            "Epoch 4/10\n",
            "1795/1795 [==============================] - 10s 6ms/sample - loss: 0.6372 - acc: 0.6162 - val_loss: 0.6176 - val_acc: 0.6950\n",
            "Epoch 5/10\n",
            "1795/1795 [==============================] - 10s 6ms/sample - loss: 0.6092 - acc: 0.6680 - val_loss: 0.5544 - val_acc: 0.7350\n",
            "Epoch 6/10\n",
            "1795/1795 [==============================] - 10s 6ms/sample - loss: 0.5688 - acc: 0.7003 - val_loss: 0.8194 - val_acc: 0.5000\n",
            "Epoch 7/10\n",
            "1795/1795 [==============================] - 10s 6ms/sample - loss: 0.5243 - acc: 0.7382 - val_loss: 0.6449 - val_acc: 0.6500\n",
            "Epoch 8/10\n",
            "1795/1795 [==============================] - 10s 6ms/sample - loss: 0.4919 - acc: 0.7616 - val_loss: 0.4963 - val_acc: 0.8100\n",
            "Epoch 9/10\n",
            "1795/1795 [==============================] - 10s 6ms/sample - loss: 0.4445 - acc: 0.8006 - val_loss: 0.7394 - val_acc: 0.5950\n",
            "Epoch 10/10\n",
            "1795/1795 [==============================] - 10s 6ms/sample - loss: 0.4059 - acc: 0.8139 - val_loss: 0.7394 - val_acc: 0.6250\n"
          ],
          "name": "stdout"
        },
        {
          "output_type": "execute_result",
          "data": {
            "text/plain": [
              "<tensorflow.python.keras.callbacks.History at 0x7eff4b7fd208>"
            ]
          },
          "metadata": {
            "tags": []
          },
          "execution_count": 89
        }
      ]
    },
    {
      "cell_type": "code",
      "metadata": {
        "id": "oMqLsFq5vl1R",
        "colab_type": "code",
        "colab": {}
      },
      "source": [
        ""
      ],
      "execution_count": 0,
      "outputs": []
    }
  ]
}